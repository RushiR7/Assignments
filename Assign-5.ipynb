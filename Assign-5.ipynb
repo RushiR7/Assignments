{
 "cells": [
  {
   "cell_type": "code",
   "execution_count": 5,
   "id": "ddb840b5",
   "metadata": {},
   "outputs": [
    {
     "name": "stdout",
     "output_type": "stream",
     "text": [
      "enter the value of x: 10\n",
      "enter the value of y: 2\n",
      "100\n"
     ]
    }
   ],
   "source": [
    "x = int(input(\"enter the value of x: \"))\n",
    "y = int(input(\"enter the value of y: \"))\n",
    "class power:\n",
    "    def power1(x,y):\n",
    "        return pow(x,y)\n",
    "print(power.power1(x,y))"
   ]
  }
 ],
 "metadata": {
  "kernelspec": {
   "display_name": "Python 3 (ipykernel)",
   "language": "python",
   "name": "python3"
  },
  "language_info": {
   "codemirror_mode": {
    "name": "ipython",
    "version": 3
   },
   "file_extension": ".py",
   "mimetype": "text/x-python",
   "name": "python",
   "nbconvert_exporter": "python",
   "pygments_lexer": "ipython3",
   "version": "3.10.0"
  }
 },
 "nbformat": 4,
 "nbformat_minor": 5
}
