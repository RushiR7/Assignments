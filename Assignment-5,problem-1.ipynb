{
 "cells": [
  {
   "cell_type": "code",
   "execution_count": 4,
   "id": "b280212c",
   "metadata": {},
   "outputs": [],
   "source": [
    "import math\n",
    "class power:\n",
    "    def __init__(self,x,n):\n",
    "        self.x = x\n",
    "        self.n = n\n",
    "        \n",
    "    def get_pow(self):\n",
    "        x = int (input(\"enter the value of x: \"))\n",
    "        n = int (input(\"enter the value of n: \"))\n",
    "        if x == 0 or x == 1 and n == 1:\n",
    "            return x\n",
    "        elif x == -1:\n",
    "            if n%2 ==0:\n",
    "                return 1\n",
    "            else:\n",
    "                return -1\n",
    "        elif n == 0:\n",
    "            return 1\n",
    "        elif n < 0:\n",
    "            return 1/pow(x,-n)\n",
    "        multi = pow(x,n)\n",
    "        if n%2 == 0:\n",
    "            return multi\n",
    "        else:\n",
    "            return multi*x"
   ]
  },
  {
   "cell_type": "code",
   "execution_count": 5,
   "id": "fc350086",
   "metadata": {},
   "outputs": [],
   "source": [
    "power1 = power(10,2)"
   ]
  },
  {
   "cell_type": "code",
   "execution_count": 6,
   "id": "c292f6bc",
   "metadata": {},
   "outputs": [
    {
     "name": "stdout",
     "output_type": "stream",
     "text": [
      "enter the value of x: 10\n",
      "enter the value of n: 2\n"
     ]
    },
    {
     "data": {
      "text/plain": [
       "100"
      ]
     },
     "execution_count": 6,
     "metadata": {},
     "output_type": "execute_result"
    }
   ],
   "source": [
    "power1.get_pow()"
   ]
  }
 ],
 "metadata": {
  "kernelspec": {
   "display_name": "Python 3 (ipykernel)",
   "language": "python",
   "name": "python3"
  },
  "language_info": {
   "codemirror_mode": {
    "name": "ipython",
    "version": 3
   },
   "file_extension": ".py",
   "mimetype": "text/x-python",
   "name": "python",
   "nbconvert_exporter": "python",
   "pygments_lexer": "ipython3",
   "version": "3.10.0"
  }
 },
 "nbformat": 4,
 "nbformat_minor": 5
}
