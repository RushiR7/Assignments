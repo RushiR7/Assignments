{
 "cells": [
  {
   "cell_type": "code",
   "execution_count": 1,
   "id": "273857a7",
   "metadata": {},
   "outputs": [],
   "source": [
    "class power:\n",
    "    def __init__(self,name,x,n):\n",
    "        self.name = name\n",
    "        self.x = x\n",
    "        self.n = n\n",
    "    \n",
    "    def get_x(self):\n",
    "        return self.x\n",
    "    \n",
    "    def get_n(self):\n",
    "        return self.n"
   ]
  },
  {
   "cell_type": "code",
   "execution_count": 2,
   "id": "3f3ad69e",
   "metadata": {},
   "outputs": [],
   "source": [
    "import math\n",
    "class pc(power):\n",
    "    def __init__(self,x,n):\n",
    "        super().__init__(pc,{'x':x},{'n':n})\n",
    "        \n",
    "    def get_pow(self):\n",
    "        x = super().get_x().get('x')\n",
    "        n = super().get_n().get('n')\n",
    "        if x == 0 or x == 1 and n == 1:\n",
    "            return x\n",
    "        elif x == -1:\n",
    "            if n%2 ==0:\n",
    "                return 1\n",
    "            else:\n",
    "                return -1\n",
    "        elif n == 0:\n",
    "            return 1\n",
    "        elif n < 0:\n",
    "            return 1/pow(x,-n)\n",
    "        multi = pow(x,n)\n",
    "        if n%2 == 0:\n",
    "            return multi\n",
    "        else:\n",
    "            return multi*x"
   ]
  },
  {
   "cell_type": "code",
   "execution_count": 3,
   "id": "f6004716",
   "metadata": {},
   "outputs": [],
   "source": [
    "pc1 = pc(10,2)"
   ]
  },
  {
   "cell_type": "code",
   "execution_count": 4,
   "id": "8ce7291d",
   "metadata": {},
   "outputs": [
    {
     "data": {
      "text/plain": [
       "100"
      ]
     },
     "execution_count": 4,
     "metadata": {},
     "output_type": "execute_result"
    }
   ],
   "source": [
    "pc1.get_pow()"
   ]
  }
 ],
 "metadata": {
  "kernelspec": {
   "display_name": "Python 3 (ipykernel)",
   "language": "python",
   "name": "python3"
  },
  "language_info": {
   "codemirror_mode": {
    "name": "ipython",
    "version": 3
   },
   "file_extension": ".py",
   "mimetype": "text/x-python",
   "name": "python",
   "nbconvert_exporter": "python",
   "pygments_lexer": "ipython3",
   "version": "3.10.0"
  }
 },
 "nbformat": 4,
 "nbformat_minor": 5
}
