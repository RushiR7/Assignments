{
 "cells": [
  {
   "cell_type": "code",
   "execution_count": 12,
   "id": "6690d4de",
   "metadata": {},
   "outputs": [
    {
     "name": "stdout",
     "output_type": "stream",
     "text": [
      "Enter the string:The quick Brow Fox\n",
      "The number of uppercase characters is: 3\n",
      "The number of lowercase characters is: 12\n"
     ]
    }
   ],
   "source": [
    "string = input(\"Enter the string:\")\n",
    "count1=0\n",
    "count2=0\n",
    "for i in string:\n",
    "      if(i.isupper()):\n",
    "            count1=count1+1\n",
    "      elif(i.islower()):\n",
    "            count2=count2+1\n",
    "      else:\n",
    "            pass\n",
    "print(\"The number of uppercase characters is:\", count1)\n",
    "print(\"The number of lowercase characters is:\", count2)"
   ]
  },
  {
   "cell_type": "code",
   "execution_count": null,
   "id": "09e08588",
   "metadata": {},
   "outputs": [],
   "source": []
  }
 ],
 "metadata": {
  "kernelspec": {
   "display_name": "Python 3 (ipykernel)",
   "language": "python",
   "name": "python3"
  },
  "language_info": {
   "codemirror_mode": {
    "name": "ipython",
    "version": 3
   },
   "file_extension": ".py",
   "mimetype": "text/x-python",
   "name": "python",
   "nbconvert_exporter": "python",
   "pygments_lexer": "ipython3",
   "version": "3.10.0"
  }
 },
 "nbformat": 4,
 "nbformat_minor": 5
}
