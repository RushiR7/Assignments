{
 "cells": [
  {
   "cell_type": "code",
   "execution_count": 22,
   "id": "9a51c972",
   "metadata": {},
   "outputs": [
    {
     "name": "stdout",
     "output_type": "stream",
     "text": [
      "Please enter the String : 1234abcd\n",
      "The Original String is:  1234abcd\n",
      "The Reversed String is:  dcba4321\n"
     ]
    }
   ],
   "source": [
    "string = input(\"Please enter the String : \")\n",
    "str = ''\n",
    "for i in string:\n",
    "    str = i + str\n",
    "print(\"The Original String is: \", string)\n",
    "print(\"The Reversed String is: \", str)"
   ]
  }
 ],
 "metadata": {
  "kernelspec": {
   "display_name": "Python 3 (ipykernel)",
   "language": "python",
   "name": "python3"
  },
  "language_info": {
   "codemirror_mode": {
    "name": "ipython",
    "version": 3
   },
   "file_extension": ".py",
   "mimetype": "text/x-python",
   "name": "python",
   "nbconvert_exporter": "python",
   "pygments_lexer": "ipython3",
   "version": "3.10.0"
  }
 },
 "nbformat": 4,
 "nbformat_minor": 5
}
