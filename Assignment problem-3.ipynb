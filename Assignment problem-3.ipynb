{
 "cells": [
  {
   "cell_type": "code",
   "execution_count": 1,
   "id": "1fa96fd2",
   "metadata": {},
   "outputs": [
    {
     "name": "stdout",
     "output_type": "stream",
     "text": [
      "no.of even numbers: 4\n",
      "no.of odd numbers: 5\n"
     ]
    }
   ],
   "source": [
    "x=(1,2,3,4,5,6,7,8,9)\n",
    "count_even = 0\n",
    "count_odd = 0\n",
    "for i in x:\n",
    "    if i%2==0:\n",
    "        count_even = count_even + 1\n",
    "    else:\n",
    "        count_odd = count_odd + 1\n",
    "print('no.of even numbers:',count_even)\n",
    "print('no.of odd numbers:',count_odd)"
   ]
  }
 ],
 "metadata": {
  "kernelspec": {
   "display_name": "Python 3 (ipykernel)",
   "language": "python",
   "name": "python3"
  },
  "language_info": {
   "codemirror_mode": {
    "name": "ipython",
    "version": 3
   },
   "file_extension": ".py",
   "mimetype": "text/x-python",
   "name": "python",
   "nbconvert_exporter": "python",
   "pygments_lexer": "ipython3",
   "version": "3.10.0"
  }
 },
 "nbformat": 4,
 "nbformat_minor": 5
}
